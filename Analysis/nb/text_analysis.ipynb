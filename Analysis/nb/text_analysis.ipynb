{
 "cells": [
  {
   "cell_type": "code",
   "execution_count": 9,
   "metadata": {},
   "outputs": [
    {
     "name": "stdout",
     "output_type": "stream",
     "text": [
      "database.db\n"
     ]
    }
   ],
   "source": [
    "import pandas as pd\n",
    "pd.options.mode.chained_assignment = None  # default='warn'\n",
    "from Sqlite3Helpers import Sqlite3Functions as s3\n",
    "import plotly_express as px\n",
    "import plotly.io as pio\n",
    "import json\n",
    "import KeywordSearch\n",
    "\n",
    "import configparser\n",
    "config = configparser.ConfigParser()\n",
    "config.read('../../Scraping/config.ini')\n",
    "\n",
    "# Setting configuration values\n",
    "sqlite3db_name = config['Database']['sqlite3db_name']\n",
    "print(sqlite3db_name)\n",
    "pio.templates.default = 'plotly_white'"
   ]
  },
  {
   "cell_type": "code",
   "execution_count": 2,
   "metadata": {},
   "outputs": [],
   "source": [
    "conn = s3.connect_to_sqlite3(f'../../Scraping/db/{sqlite3db_name}')"
   ]
  },
  {
   "cell_type": "code",
   "execution_count": 3,
   "metadata": {},
   "outputs": [],
   "source": [
    "def remove_all_spaces(txt):\n",
    "    return ''.join(txt.split())\n",
    "\n",
    "\n",
    "def search(msg, terms_dict):\n",
    "    msg = remove_all_spaces(msg)\n",
    "    return [\n",
    "        (k, [t for t in v if t in msg])\n",
    "        for k,v in terms_dict.items()\n",
    "    ]\n",
    "\n",
    "\n",
    "def search_simple(msg, terms):\n",
    "    msg = remove_all_spaces(msg)\n",
    "    return [\n",
    "        t for t in terms\n",
    "        if t in msg\n",
    "    ]\n",
    "\n",
    "\n",
    "def count_terms_found(terms_found):\n",
    "    for t in terms_found:\n",
    "        for i in t:\n",
    "            yield i[0], len(i[1])"
   ]
  },
  {
   "cell_type": "markdown",
   "metadata": {},
   "source": [
    "# Get People"
   ]
  },
  {
   "cell_type": "code",
   "execution_count": 7,
   "metadata": {},
   "outputs": [
    {
     "name": "stdout",
     "output_type": "stream",
     "text": [
      "IDs: ['A01', 'A02']\n"
     ]
    },
    {
     "data": {
      "text/plain": [
       "{nan: ['လူနာမည်', 'name', 'လူ', 'နာမည်'],\n",
       " nan: ['လူနာမည်', 'name', 'လူ', 'နာမည်']}"
      ]
     },
     "execution_count": 7,
     "metadata": {},
     "output_type": "execute_result"
    }
   ],
   "source": [
    "people = pd.read_csv('../data/keywords/people.csv')\n",
    "people_ids = [c for c in people.columns if c.startswith('A') and len(c)==3]\n",
    "print('IDs:', people_ids)\n",
    "\n",
    "people_terms = {}\n",
    "for pid in people_ids:\n",
    "    p = people[[c for c in people.columns if c.startswith(pid)]]\n",
    "    person_abbr = p.iloc[1,1]\n",
    "    people_terms[person_abbr] = [t.strip() for t in p[pid].dropna() if t!='-']\n",
    "\n",
    "people_terms"
   ]
  },
  {
   "cell_type": "markdown",
   "metadata": {},
   "source": [
    "# Get HS Terms"
   ]
  },
  {
   "cell_type": "code",
   "execution_count": 8,
   "metadata": {},
   "outputs": [
    {
     "data": {
      "text/plain": [
       "['ကောင်မ']"
      ]
     },
     "execution_count": 8,
     "metadata": {},
     "output_type": "execute_result"
    }
   ],
   "source": [
    "hsdf = pd.read_csv('../data/keywords/hs_terms.csv')\n",
    "hsdf.dropna(subset=['BURMESE TERM'], inplace=True)\n",
    "hs_terms = hsdf['BURMESE TERM'].loc[hsdf['Term Targets Woman']].tolist()\n",
    "hs_terms"
   ]
  },
  {
   "cell_type": "markdown",
   "metadata": {},
   "source": [
    "# Load and Process in Loop\n",
    "\n",
    "## Algo\n",
    "\n",
    "- Get the total number of rows.\n",
    "- Define chunksize which will be the size of each batch."
   ]
  },
  {
   "cell_type": "code",
   "execution_count": 10,
   "metadata": {},
   "outputs": [
    {
     "name": "stdout",
     "output_type": "stream",
     "text": [
      "854\n"
     ]
    }
   ],
   "source": [
    "NROWS = int(s3.fetch(conn, 'SELECT COUNT(\"index\") FROM etl_clean').iloc[0,0])\n",
    "print(NROWS)"
   ]
  },
  {
   "cell_type": "code",
   "execution_count": 16,
   "metadata": {},
   "outputs": [
    {
     "name": "stdout",
     "output_type": "stream",
     "text": [
      "Processing index=0:99999\n"
     ]
    },
    {
     "name": "stderr",
     "output_type": "stream",
     "text": [
      "854it [00:00, 22739.42it/s]\n",
      "100%|██████████| 2/2 [00:00<00:00, 14.90it/s]\n"
     ]
    }
   ],
   "source": [
    "# Delete `hs`\n",
    "s3.q(con=conn, query='''\n",
    "DROP TABLE IF EXISTS hs;\n",
    "''')\n",
    "\n",
    "index_start = 0\n",
    "chunksize = 100000\n",
    "\n",
    "while index_start <= NROWS:\n",
    "    index_end = index_start + chunksize - 1  # -1 because sql between is inclusive\n",
    "    print(f'Processing index={index_start}:{index_end}')\n",
    "\n",
    "    df = s3.fetch(conn,\n",
    "        f'SELECT post_url, datetime_posted, msg_clean msg, msg_seg FROM etl_clean WHERE \"index\" BETWEEN {index_start} AND {index_end};')\n",
    "    df['msg_seg'] = df.msg_seg.apply(json.loads)\n",
    "    df['datetime_posted'] = pd.to_datetime(df.datetime_posted)\n",
    "\n",
    "    # Find HS\n",
    "    df = KeywordSearch.find_hs(df, hs_terms)\n",
    "    people_dict = KeywordSearch.search_persons(df, people_terms)\n",
    "    df = KeywordSearch.format_df(df, people_dict)\n",
    "    \n",
    "    for c in people_dict.keys():\n",
    "        df[c] = [json.dumps(l, ensure_ascii=False) for l in df[c]]\n",
    "    df['hs_terms_found'] = [json.dumps(l, ensure_ascii=False) for l in df.hs_terms_found]\n",
    "    \n",
    "    s3.insert(table='hs', con=conn, df=df, if_exists='append', chunksize=chunksize)\n",
    "\n",
    "    index_start = index_end + 1"
   ]
  },
  {
   "cell_type": "code",
   "execution_count": 17,
   "metadata": {},
   "outputs": [
    {
     "data": {
      "text/html": [
       "<div>\n",
       "<style scoped>\n",
       "    .dataframe tbody tr th:only-of-type {\n",
       "        vertical-align: middle;\n",
       "    }\n",
       "\n",
       "    .dataframe tbody tr th {\n",
       "        vertical-align: top;\n",
       "    }\n",
       "\n",
       "    .dataframe thead th {\n",
       "        text-align: right;\n",
       "    }\n",
       "</style>\n",
       "<table border=\"1\" class=\"dataframe\">\n",
       "  <thead>\n",
       "    <tr style=\"text-align: right;\">\n",
       "      <th></th>\n",
       "      <th>date</th>\n",
       "      <th>time</th>\n",
       "      <th>post_url</th>\n",
       "      <th>message</th>\n",
       "      <th>hs_terms_found</th>\n",
       "      <th>name</th>\n",
       "      <th>nname</th>\n",
       "      <th>nHsTermsFound</th>\n",
       "    </tr>\n",
       "  </thead>\n",
       "  <tbody>\n",
       "    <tr>\n",
       "      <th>1</th>\n",
       "      <td>2022-09-06</td>\n",
       "      <td>02:24:11</td>\n",
       "      <td>https://t.me/telethonchat/502027</td>\n",
       "      <td>none</td>\n",
       "      <td>[]</td>\n",
       "      <td>[]</td>\n",
       "      <td>0</td>\n",
       "      <td>0</td>\n",
       "    </tr>\n",
       "    <tr>\n",
       "      <th>2</th>\n",
       "      <td>2022-09-06</td>\n",
       "      <td>02:01:17</td>\n",
       "      <td>https://t.me/telethonchat/502026</td>\n",
       "      <td>None</td>\n",
       "      <td>[]</td>\n",
       "      <td>[]</td>\n",
       "      <td>0</td>\n",
       "      <td>0</td>\n",
       "    </tr>\n",
       "    <tr>\n",
       "      <th>3</th>\n",
       "      <td>2022-09-06</td>\n",
       "      <td>00:47:17</td>\n",
       "      <td>https://t.me/telethonchat/502025</td>\n",
       "      <td>result = await client(functions.contacts.getco...</td>\n",
       "      <td>[]</td>\n",
       "      <td>[]</td>\n",
       "      <td>0</td>\n",
       "      <td>0</td>\n",
       "    </tr>\n",
       "    <tr>\n",
       "      <th>4</th>\n",
       "      <td>2022-09-06</td>\n",
       "      <td>00:45:53</td>\n",
       "      <td>https://t.me/telethonchat/502024</td>\n",
       "      <td>help me pls</td>\n",
       "      <td>[]</td>\n",
       "      <td>[]</td>\n",
       "      <td>0</td>\n",
       "      <td>0</td>\n",
       "    </tr>\n",
       "    <tr>\n",
       "      <th>5</th>\n",
       "      <td>2022-09-06</td>\n",
       "      <td>00:45:42</td>\n",
       "      <td>https://t.me/telethonchat/502023</td>\n",
       "      <td>how i can use v1.24 not v1.25?</td>\n",
       "      <td>[]</td>\n",
       "      <td>[]</td>\n",
       "      <td>0</td>\n",
       "      <td>0</td>\n",
       "    </tr>\n",
       "    <tr>\n",
       "      <th>...</th>\n",
       "      <td>...</td>\n",
       "      <td>...</td>\n",
       "      <td>...</td>\n",
       "      <td>...</td>\n",
       "      <td>...</td>\n",
       "      <td>...</td>\n",
       "      <td>...</td>\n",
       "      <td>...</td>\n",
       "    </tr>\n",
       "    <tr>\n",
       "      <th>843</th>\n",
       "      <td>2022-09-01</td>\n",
       "      <td>08:37:31</td>\n",
       "      <td>https://t.me/telethonchat/500956</td>\n",
       "      <td>cant</td>\n",
       "      <td>[]</td>\n",
       "      <td>[]</td>\n",
       "      <td>0</td>\n",
       "      <td>0</td>\n",
       "    </tr>\n",
       "    <tr>\n",
       "      <th>844</th>\n",
       "      <td>2022-09-01</td>\n",
       "      <td>08:37:16</td>\n",
       "      <td>https://t.me/telethonchat/500955</td>\n",
       "      <td>save json encoding=utf-8</td>\n",
       "      <td>[]</td>\n",
       "      <td>[]</td>\n",
       "      <td>0</td>\n",
       "      <td>0</td>\n",
       "    </tr>\n",
       "    <tr>\n",
       "      <th>845</th>\n",
       "      <td>2022-09-01</td>\n",
       "      <td>08:17:12</td>\n",
       "      <td>https://t.me/telethonchat/500954</td>\n",
       "      <td>for example reading the first 30 messages of a...</td>\n",
       "      <td>[]</td>\n",
       "      <td>[]</td>\n",
       "      <td>0</td>\n",
       "      <td>0</td>\n",
       "    </tr>\n",
       "    <tr>\n",
       "      <th>846</th>\n",
       "      <td>2022-09-01</td>\n",
       "      <td>08:11:05</td>\n",
       "      <td>https://t.me/telethonchat/500952</td>\n",
       "      <td>does anyone know if i can read the messages of...</td>\n",
       "      <td>[]</td>\n",
       "      <td>[]</td>\n",
       "      <td>0</td>\n",
       "      <td>0</td>\n",
       "    </tr>\n",
       "    <tr>\n",
       "      <th>847</th>\n",
       "      <td>2022-09-01</td>\n",
       "      <td>08:07:31</td>\n",
       "      <td>https://t.me/telethonchat/500950</td>\n",
       "      <td>none</td>\n",
       "      <td>[]</td>\n",
       "      <td>[]</td>\n",
       "      <td>0</td>\n",
       "      <td>0</td>\n",
       "    </tr>\n",
       "  </tbody>\n",
       "</table>\n",
       "<p>854 rows × 8 columns</p>\n",
       "</div>"
      ],
      "text/plain": [
       "           date      time                          post_url  \\\n",
       "1    2022-09-06  02:24:11  https://t.me/telethonchat/502027   \n",
       "2    2022-09-06  02:01:17  https://t.me/telethonchat/502026   \n",
       "3    2022-09-06  00:47:17  https://t.me/telethonchat/502025   \n",
       "4    2022-09-06  00:45:53  https://t.me/telethonchat/502024   \n",
       "5    2022-09-06  00:45:42  https://t.me/telethonchat/502023   \n",
       "..          ...       ...                               ...   \n",
       "843  2022-09-01  08:37:31  https://t.me/telethonchat/500956   \n",
       "844  2022-09-01  08:37:16  https://t.me/telethonchat/500955   \n",
       "845  2022-09-01  08:17:12  https://t.me/telethonchat/500954   \n",
       "846  2022-09-01  08:11:05  https://t.me/telethonchat/500952   \n",
       "847  2022-09-01  08:07:31  https://t.me/telethonchat/500950   \n",
       "\n",
       "                                               message hs_terms_found name  \\\n",
       "1                                                 none             []   []   \n",
       "2                                                 None             []   []   \n",
       "3    result = await client(functions.contacts.getco...             []   []   \n",
       "4                                          help me pls             []   []   \n",
       "5                       how i can use v1.24 not v1.25?             []   []   \n",
       "..                                                 ...            ...  ...   \n",
       "843                                               cant             []   []   \n",
       "844                           save json encoding=utf-8             []   []   \n",
       "845  for example reading the first 30 messages of a...             []   []   \n",
       "846  does anyone know if i can read the messages of...             []   []   \n",
       "847                                               none             []   []   \n",
       "\n",
       "     nname  nHsTermsFound  \n",
       "1        0              0  \n",
       "2        0              0  \n",
       "3        0              0  \n",
       "4        0              0  \n",
       "5        0              0  \n",
       "..     ...            ...  \n",
       "843      0              0  \n",
       "844      0              0  \n",
       "845      0              0  \n",
       "846      0              0  \n",
       "847      0              0  \n",
       "\n",
       "[854 rows x 8 columns]"
      ]
     },
     "execution_count": 17,
     "metadata": {},
     "output_type": "execute_result"
    }
   ],
   "source": [
    "df"
   ]
  },
  {
   "cell_type": "code",
   "execution_count": 18,
   "metadata": {},
   "outputs": [
    {
     "name": "stdout",
     "output_type": "stream",
     "text": [
      "Processing index=100:199\n"
     ]
    },
    {
     "name": "stderr",
     "output_type": "stream",
     "text": [
      "100it [00:00, 21452.05it/s]\n",
      "100%|██████████| 2/2 [00:00<00:00, 111.32it/s]\n"
     ]
    }
   ],
   "source": [
    "a, b = 100, 199\n",
    "print(f'Processing index={a}:{b}')\n",
    "df = s3.fetch(conn,\n",
    "    f'SELECT post_url, datetime_posted, msg_clean msg, msg_seg FROM etl_clean WHERE \"index\" BETWEEN {a} AND {b};')\n",
    "df['msg_seg'] = df.msg_seg.apply(json.loads)\n",
    "df['datetime_posted'] = pd.to_datetime(df.datetime_posted)\n",
    "\n",
    "# Find HS\n",
    "df = KeywordSearch.find_hs(df, hs_terms)\n",
    "people_dict = KeywordSearch.search_persons(df, people_terms)\n",
    "df = KeywordSearch.format_df(df, people_dict)"
   ]
  },
  {
   "cell_type": "code",
   "execution_count": 20,
   "metadata": {},
   "outputs": [
    {
     "name": "stdout",
     "output_type": "stream",
     "text": [
      "None\n"
     ]
    }
   ],
   "source": [
    "print(s3.insert(table='hs', con=conn, df=df.applymap(str), if_exists='append', chunksize=chunksize))"
   ]
  },
  {
   "cell_type": "code",
   "execution_count": null,
   "metadata": {},
   "outputs": [],
   "source": []
  }
 ],
 "metadata": {
  "kernelspec": {
   "display_name": "Python 3.7.11 ('mw')",
   "language": "python",
   "name": "python3"
  },
  "language_info": {
   "codemirror_mode": {
    "name": "ipython",
    "version": 3
   },
   "file_extension": ".py",
   "mimetype": "text/x-python",
   "name": "python",
   "nbconvert_exporter": "python",
   "pygments_lexer": "ipython3",
   "version": "3.7.11"
  },
  "orig_nbformat": 4,
  "vscode": {
   "interpreter": {
    "hash": "8652b6e3ad2b18296fc23e508da3fac2c87b0e165b92642f0b1bc7008a04ea39"
   }
  }
 },
 "nbformat": 4,
 "nbformat_minor": 2
}
