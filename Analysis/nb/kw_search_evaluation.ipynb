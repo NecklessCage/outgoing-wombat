{
 "cells": [
  {
   "cell_type": "code",
   "execution_count": 6,
   "metadata": {},
   "outputs": [
    {
     "name": "stdout",
     "output_type": "stream",
     "text": [
      "20220821\n"
     ]
    }
   ],
   "source": [
    "import pandas as pd\n",
    "pd.options.mode.chained_assignment = None  # default='warn'\n",
    "from Sqlite3Helpers import Sqlite3Functions as s3\n",
    "import plotly_express as px\n",
    "import plotly.io as pio\n",
    "import json\n",
    "from tqdm import tqdm\n",
    "from datetime import datetime\n",
    "\n",
    "today = datetime.today().strftime('%Y%m%d')\n",
    "print(today)\n",
    "\n",
    "pio.templates.default = 'plotly_white'"
   ]
  },
  {
   "cell_type": "code",
   "execution_count": 7,
   "metadata": {},
   "outputs": [],
   "source": [
    "conn = s3.connect_to_sqlite3('../../Scraping/db/ghs.db')"
   ]
  },
  {
   "cell_type": "code",
   "execution_count": 8,
   "metadata": {},
   "outputs": [
    {
     "ename": "KeyError",
     "evalue": "\"['nHsTermsFound'] not found in axis\"",
     "output_type": "error",
     "traceback": [
      "\u001b[0;31m---------------------------------------------------------------------------\u001b[0m",
      "\u001b[0;31mKeyError\u001b[0m                                  Traceback (most recent call last)",
      "\u001b[0;32m<ipython-input-8-91c2b78021bc>\u001b[0m in \u001b[0;36m<module>\u001b[0;34m\u001b[0m\n\u001b[0;32m----> 1\u001b[0;31m \u001b[0mpeople\u001b[0m \u001b[0;34m=\u001b[0m \u001b[0ms3\u001b[0m\u001b[0;34m.\u001b[0m\u001b[0mfetch\u001b[0m\u001b[0;34m(\u001b[0m\u001b[0mconn\u001b[0m\u001b[0;34m,\u001b[0m \u001b[0mquery\u001b[0m\u001b[0;34m=\u001b[0m\u001b[0;34m'SELECT DISTINCT person FROM hs_tall'\u001b[0m\u001b[0;34m)\u001b[0m\u001b[0;34m.\u001b[0m\u001b[0mperson\u001b[0m\u001b[0;34m.\u001b[0m\u001b[0mdrop\u001b[0m\u001b[0;34m(\u001b[0m\u001b[0;34m'nHsTermsFound'\u001b[0m\u001b[0;34m)\u001b[0m\u001b[0;34m.\u001b[0m\u001b[0mvalues\u001b[0m\u001b[0;34m\u001b[0m\u001b[0;34m\u001b[0m\u001b[0m\n\u001b[0m\u001b[1;32m      2\u001b[0m \u001b[0mpeople\u001b[0m\u001b[0;34m\u001b[0m\u001b[0;34m\u001b[0m\u001b[0m\n",
      "\u001b[0;32m~/miniconda3/envs/mw/lib/python3.7/site-packages/pandas/util/_decorators.py\u001b[0m in \u001b[0;36mwrapper\u001b[0;34m(*args, **kwargs)\u001b[0m\n\u001b[1;32m    309\u001b[0m                     \u001b[0mstacklevel\u001b[0m\u001b[0;34m=\u001b[0m\u001b[0mstacklevel\u001b[0m\u001b[0;34m,\u001b[0m\u001b[0;34m\u001b[0m\u001b[0;34m\u001b[0m\u001b[0m\n\u001b[1;32m    310\u001b[0m                 )\n\u001b[0;32m--> 311\u001b[0;31m             \u001b[0;32mreturn\u001b[0m \u001b[0mfunc\u001b[0m\u001b[0;34m(\u001b[0m\u001b[0;34m*\u001b[0m\u001b[0margs\u001b[0m\u001b[0;34m,\u001b[0m \u001b[0;34m**\u001b[0m\u001b[0mkwargs\u001b[0m\u001b[0;34m)\u001b[0m\u001b[0;34m\u001b[0m\u001b[0;34m\u001b[0m\u001b[0m\n\u001b[0m\u001b[1;32m    312\u001b[0m \u001b[0;34m\u001b[0m\u001b[0m\n\u001b[1;32m    313\u001b[0m         \u001b[0;32mreturn\u001b[0m \u001b[0mwrapper\u001b[0m\u001b[0;34m\u001b[0m\u001b[0;34m\u001b[0m\u001b[0m\n",
      "\u001b[0;32m~/miniconda3/envs/mw/lib/python3.7/site-packages/pandas/core/series.py\u001b[0m in \u001b[0;36mdrop\u001b[0;34m(self, labels, axis, index, columns, level, inplace, errors)\u001b[0m\n\u001b[1;32m   4684\u001b[0m             \u001b[0mlevel\u001b[0m\u001b[0;34m=\u001b[0m\u001b[0mlevel\u001b[0m\u001b[0;34m,\u001b[0m\u001b[0;34m\u001b[0m\u001b[0;34m\u001b[0m\u001b[0m\n\u001b[1;32m   4685\u001b[0m             \u001b[0minplace\u001b[0m\u001b[0;34m=\u001b[0m\u001b[0minplace\u001b[0m\u001b[0;34m,\u001b[0m\u001b[0;34m\u001b[0m\u001b[0;34m\u001b[0m\u001b[0m\n\u001b[0;32m-> 4686\u001b[0;31m             \u001b[0merrors\u001b[0m\u001b[0;34m=\u001b[0m\u001b[0merrors\u001b[0m\u001b[0;34m,\u001b[0m\u001b[0;34m\u001b[0m\u001b[0;34m\u001b[0m\u001b[0m\n\u001b[0m\u001b[1;32m   4687\u001b[0m         )\n\u001b[1;32m   4688\u001b[0m \u001b[0;34m\u001b[0m\u001b[0m\n",
      "\u001b[0;32m~/miniconda3/envs/mw/lib/python3.7/site-packages/pandas/core/generic.py\u001b[0m in \u001b[0;36mdrop\u001b[0;34m(self, labels, axis, index, columns, level, inplace, errors)\u001b[0m\n\u001b[1;32m   4148\u001b[0m         \u001b[0;32mfor\u001b[0m \u001b[0maxis\u001b[0m\u001b[0;34m,\u001b[0m \u001b[0mlabels\u001b[0m \u001b[0;32min\u001b[0m \u001b[0maxes\u001b[0m\u001b[0;34m.\u001b[0m\u001b[0mitems\u001b[0m\u001b[0;34m(\u001b[0m\u001b[0;34m)\u001b[0m\u001b[0;34m:\u001b[0m\u001b[0;34m\u001b[0m\u001b[0;34m\u001b[0m\u001b[0m\n\u001b[1;32m   4149\u001b[0m             \u001b[0;32mif\u001b[0m \u001b[0mlabels\u001b[0m \u001b[0;32mis\u001b[0m \u001b[0;32mnot\u001b[0m \u001b[0;32mNone\u001b[0m\u001b[0;34m:\u001b[0m\u001b[0;34m\u001b[0m\u001b[0;34m\u001b[0m\u001b[0m\n\u001b[0;32m-> 4150\u001b[0;31m                 \u001b[0mobj\u001b[0m \u001b[0;34m=\u001b[0m \u001b[0mobj\u001b[0m\u001b[0;34m.\u001b[0m\u001b[0m_drop_axis\u001b[0m\u001b[0;34m(\u001b[0m\u001b[0mlabels\u001b[0m\u001b[0;34m,\u001b[0m \u001b[0maxis\u001b[0m\u001b[0;34m,\u001b[0m \u001b[0mlevel\u001b[0m\u001b[0;34m=\u001b[0m\u001b[0mlevel\u001b[0m\u001b[0;34m,\u001b[0m \u001b[0merrors\u001b[0m\u001b[0;34m=\u001b[0m\u001b[0merrors\u001b[0m\u001b[0;34m)\u001b[0m\u001b[0;34m\u001b[0m\u001b[0;34m\u001b[0m\u001b[0m\n\u001b[0m\u001b[1;32m   4151\u001b[0m \u001b[0;34m\u001b[0m\u001b[0m\n\u001b[1;32m   4152\u001b[0m         \u001b[0;32mif\u001b[0m \u001b[0minplace\u001b[0m\u001b[0;34m:\u001b[0m\u001b[0;34m\u001b[0m\u001b[0;34m\u001b[0m\u001b[0m\n",
      "\u001b[0;32m~/miniconda3/envs/mw/lib/python3.7/site-packages/pandas/core/generic.py\u001b[0m in \u001b[0;36m_drop_axis\u001b[0;34m(self, labels, axis, level, errors)\u001b[0m\n\u001b[1;32m   4183\u001b[0m                 \u001b[0mnew_axis\u001b[0m \u001b[0;34m=\u001b[0m \u001b[0maxis\u001b[0m\u001b[0;34m.\u001b[0m\u001b[0mdrop\u001b[0m\u001b[0;34m(\u001b[0m\u001b[0mlabels\u001b[0m\u001b[0;34m,\u001b[0m \u001b[0mlevel\u001b[0m\u001b[0;34m=\u001b[0m\u001b[0mlevel\u001b[0m\u001b[0;34m,\u001b[0m \u001b[0merrors\u001b[0m\u001b[0;34m=\u001b[0m\u001b[0merrors\u001b[0m\u001b[0;34m)\u001b[0m\u001b[0;34m\u001b[0m\u001b[0;34m\u001b[0m\u001b[0m\n\u001b[1;32m   4184\u001b[0m             \u001b[0;32melse\u001b[0m\u001b[0;34m:\u001b[0m\u001b[0;34m\u001b[0m\u001b[0;34m\u001b[0m\u001b[0m\n\u001b[0;32m-> 4185\u001b[0;31m                 \u001b[0mnew_axis\u001b[0m \u001b[0;34m=\u001b[0m \u001b[0maxis\u001b[0m\u001b[0;34m.\u001b[0m\u001b[0mdrop\u001b[0m\u001b[0;34m(\u001b[0m\u001b[0mlabels\u001b[0m\u001b[0;34m,\u001b[0m \u001b[0merrors\u001b[0m\u001b[0;34m=\u001b[0m\u001b[0merrors\u001b[0m\u001b[0;34m)\u001b[0m\u001b[0;34m\u001b[0m\u001b[0;34m\u001b[0m\u001b[0m\n\u001b[0m\u001b[1;32m   4186\u001b[0m             \u001b[0mresult\u001b[0m \u001b[0;34m=\u001b[0m \u001b[0mself\u001b[0m\u001b[0;34m.\u001b[0m\u001b[0mreindex\u001b[0m\u001b[0;34m(\u001b[0m\u001b[0;34m**\u001b[0m\u001b[0;34m{\u001b[0m\u001b[0maxis_name\u001b[0m\u001b[0;34m:\u001b[0m \u001b[0mnew_axis\u001b[0m\u001b[0;34m}\u001b[0m\u001b[0;34m)\u001b[0m\u001b[0;34m\u001b[0m\u001b[0;34m\u001b[0m\u001b[0m\n\u001b[1;32m   4187\u001b[0m \u001b[0;34m\u001b[0m\u001b[0m\n",
      "\u001b[0;32m~/miniconda3/envs/mw/lib/python3.7/site-packages/pandas/core/indexes/base.py\u001b[0m in \u001b[0;36mdrop\u001b[0;34m(self, labels, errors)\u001b[0m\n\u001b[1;32m   6015\u001b[0m         \u001b[0;32mif\u001b[0m \u001b[0mmask\u001b[0m\u001b[0;34m.\u001b[0m\u001b[0many\u001b[0m\u001b[0;34m(\u001b[0m\u001b[0;34m)\u001b[0m\u001b[0;34m:\u001b[0m\u001b[0;34m\u001b[0m\u001b[0;34m\u001b[0m\u001b[0m\n\u001b[1;32m   6016\u001b[0m             \u001b[0;32mif\u001b[0m \u001b[0merrors\u001b[0m \u001b[0;34m!=\u001b[0m \u001b[0;34m\"ignore\"\u001b[0m\u001b[0;34m:\u001b[0m\u001b[0;34m\u001b[0m\u001b[0;34m\u001b[0m\u001b[0m\n\u001b[0;32m-> 6017\u001b[0;31m                 \u001b[0;32mraise\u001b[0m \u001b[0mKeyError\u001b[0m\u001b[0;34m(\u001b[0m\u001b[0;34mf\"{labels[mask]} not found in axis\"\u001b[0m\u001b[0;34m)\u001b[0m\u001b[0;34m\u001b[0m\u001b[0;34m\u001b[0m\u001b[0m\n\u001b[0m\u001b[1;32m   6018\u001b[0m             \u001b[0mindexer\u001b[0m \u001b[0;34m=\u001b[0m \u001b[0mindexer\u001b[0m\u001b[0;34m[\u001b[0m\u001b[0;34m~\u001b[0m\u001b[0mmask\u001b[0m\u001b[0;34m]\u001b[0m\u001b[0;34m\u001b[0m\u001b[0;34m\u001b[0m\u001b[0m\n\u001b[1;32m   6019\u001b[0m         \u001b[0;32mreturn\u001b[0m \u001b[0mself\u001b[0m\u001b[0;34m.\u001b[0m\u001b[0mdelete\u001b[0m\u001b[0;34m(\u001b[0m\u001b[0mindexer\u001b[0m\u001b[0;34m)\u001b[0m\u001b[0;34m\u001b[0m\u001b[0;34m\u001b[0m\u001b[0m\n",
      "\u001b[0;31mKeyError\u001b[0m: \"['nHsTermsFound'] not found in axis\""
     ]
    }
   ],
   "source": [
    "people = s3.fetch(conn, query='SELECT DISTINCT person FROM hs_tall').person.drop('nHsTermsFound').values\n",
    "people"
   ]
  },
  {
   "cell_type": "markdown",
   "metadata": {},
   "source": [
    "# Evaluation Data Extraction\n",
    "\n",
    "- Get N data for each person where a keyword for that person is found.\n",
    "- Get N data for each person where a keyword for that person is not found.\n",
    "- Manually go through each dataset.\n",
    "- Calculate performance metrics.\n",
    "- [ ] [ToDo] What are the metrics"
   ]
  },
  {
   "cell_type": "code",
   "execution_count": null,
   "metadata": {},
   "outputs": [
    {
     "name": "stderr",
     "output_type": "stream",
     "text": [
      " 38%|███▊      | 8/21 [09:43<15:47, 72.90s/it]\n"
     ]
    },
    {
     "ename": "DatabaseError",
     "evalue": "Execution failed on sql 'SELECT post_url, HsTermsFound, nHsTermsFound, message FROM hs WHERE post_url IN (\"https://t.me/kar199al/57301\", \"https://t.me/tgispringchannel/12438\", \"https://t.me/kyawswar9690/97713\", \"https://t.me/uhan96999/4822\", \"https://t.me/infohlaing/17544\", \"https://t.me/tfm2022/47300\", \"https://t.me/twitterkfteam/34052\", \"https://t.me/mindinnewsmm/34076\", \"https://t.me/kyawswar9690/195571\", \"https://t.me/stlmgbhone199/8483\", \"https://t.me/sisminnaing/46\", \"https://t.me/kyawwinmaung413/2110\", \"https://t.me/kyawswar9690/238216\", \"https://t.me/kyawswar9690/295057\", \"https://t.me/thaungseinm/12522\", \"https://t.me/pencilow/1275\", \"https://t.me/kyawswar9690/77311\", \"https://t.me/kar199al/60203\", \"https://t.me/kyawswar9690/70191\", \"https://t.me/sittwaethitsar/3963\", \"https://t.me/kyawswar9690/330490\", \"https://t.me/pencilochannel/334\", \"https://t.me/tfm2022/30862\", \"https://t.me/kyawswar9690/321171\", \"https://t.me/kar199al/52204\", \"https://t.me/kyawswar96999/13328\", \"https://t.me/kyawswarks969/9776\", \"https://t.me/tfm2022/40910\", \"https://t.me/kyawswar9690/132092\", \"https://t.me/kyawswar9690/340320\", \"https://t.me/kyawswar9690/152532\", \"https://t.me/thaungseinm/15371\", \"https://t.me/kyawswar9690/161594\", \"https://t.me/kyawswar9690/111667\", \"https://t.me/stlmgbhone199/11292\", \"https://t.me/kyawswar9690/308860\", \"https://t.me/kyawswar9690/333714\", \"https://t.me/tgispringchannel/16287\", \"https://t.me/zfighternews/26293\", \"https://t.me/sittwaethitsar/3547\", \"https://t.me/nawshwe/24629\", \"https://t.me/kyawswar9690/191005\", \"https://t.me/kyawswar9690/181407\", \"https://t.me/kyawswar9690/241115\", \"https://t.me/kyawswar9690/273397\", \"https://t.me/uhan96999/3348\", \"https://t.me/nawshwe/92688\", \"https://t.me/nawshwe/82013\", \"https://t.me/twitterkfteam/85348\", \"https://t.me/stlmgbhone199/10626\", \"https://t.me/kyawswar9690/299440\", \"https://t.me/no_name_myanmar/90915\", \"https://t.me/no_name_myanmar/103619\", \"https://t.me/misandi910201/7743\", \"https://t.me/nawshwe/50789\", \"https://t.me/kyawswar9690/315532\", \"https://t.me/kyawswar9690/286060\", \"https://t.me/kyawswar9690/330554\", \"https://t.me/msi22222/67562\", \"https://t.me/kyawswar9690/103040\", \"https://t.me/nawshwe/5887\", \"https://t.me/kyawswar9690/221453\", \"https://t.me/mindinnewsmm/32784\", \"https://t.me/snowqueen1245/20724\", \"https://t.me/no_name_myanmar/9927\", \"https://t.me/infohlaing/19980\", \"https://t.me/kyawswar9690/213417\", \"https://t.me/kyawswar9690/316977\", \"https://t.me/myanmartelegramarchives/24968\", \"https://t.me/warsoupdatenews2021/11894\", \"https://t.me/mwdmmnews/5646\", \"https://t.me/infohlaing/4179\", \"https://t.me/kyawswar9690/94131\", \"https://t.me/kyawswar9690/155232\", \"https://t.me/kyawwinmaung413/4901\", \"https://t.me/nawshwe/24391\", \"https://t.me/nawshwe/64130\", \"https://t.me/pencilochannel/1025\", \"https://t.me/kyawswar9690/91804\", \"https://t.me/kyawswarks969/9387\", \"https://t.me/msi22222/96047\", \"https://t.me/nawshwe/56495\", \"https://t.me/thiha11223344/385\", \"https://t.me/kyawswar9690/331078\", \"https://t.me/forwardchannelrangoon/45228\", \"https://t.me/no_name_myanmar/97895\", \"https://t.me/kyawswar9690/327521\", \"https://t.me/sisminnaing/3437\", \"https://t.me/snowqueen1245/8112\", \"https://t.me/zfighternews/97889\", \"https://t.me/myanmarupdate/8588\", \"https://t.me/nawshwe/66762\", \"https://t.me/infohlaing/28642\", \"https://t.me/zfighternews/70527\", \"https://t.me/msi22222/67857\", \"https://t.me/twitterkfteam/51234\", \"https://t.me/kyawswar96999/16795\", \"https://t.me/factcheck_mm/16\", \"https://t.me/kokhantnews/3437\", \"https://t.me/kyawswar9690/22359\") ORDER BY nHsTermsFound DESC': no such column: HsTermsFound",
     "output_type": "error",
     "traceback": [
      "\u001b[0;31m---------------------------------------------------------------------------\u001b[0m",
      "\u001b[0;31mOperationalError\u001b[0m                          Traceback (most recent call last)",
      "\u001b[0;32m~/miniconda3/envs/mw/lib/python3.7/site-packages/pandas/io/sql.py\u001b[0m in \u001b[0;36mexecute\u001b[0;34m(self, *args, **kwargs)\u001b[0m\n\u001b[1;32m   2055\u001b[0m         \u001b[0;32mtry\u001b[0m\u001b[0;34m:\u001b[0m\u001b[0;34m\u001b[0m\u001b[0;34m\u001b[0m\u001b[0m\n\u001b[0;32m-> 2056\u001b[0;31m             \u001b[0mcur\u001b[0m\u001b[0;34m.\u001b[0m\u001b[0mexecute\u001b[0m\u001b[0;34m(\u001b[0m\u001b[0;34m*\u001b[0m\u001b[0margs\u001b[0m\u001b[0;34m,\u001b[0m \u001b[0;34m**\u001b[0m\u001b[0mkwargs\u001b[0m\u001b[0;34m)\u001b[0m\u001b[0;34m\u001b[0m\u001b[0;34m\u001b[0m\u001b[0m\n\u001b[0m\u001b[1;32m   2057\u001b[0m             \u001b[0;32mreturn\u001b[0m \u001b[0mcur\u001b[0m\u001b[0;34m\u001b[0m\u001b[0;34m\u001b[0m\u001b[0m\n",
      "\u001b[0;31mOperationalError\u001b[0m: no such column: HsTermsFound",
      "\nThe above exception was the direct cause of the following exception:\n",
      "\u001b[0;31mDatabaseError\u001b[0m                             Traceback (most recent call last)",
      "\u001b[0;32m<ipython-input-4-258b754b23e2>\u001b[0m in \u001b[0;36m<module>\u001b[0;34m\u001b[0m\n\u001b[1;32m      5\u001b[0m         )).post_url.tolist()\n\u001b[1;32m      6\u001b[0m     df = s3.fetch(conn,\n\u001b[0;32m----> 7\u001b[0;31m         f'SELECT post_url, {person.lstrip(\"n\")}, {person}, message FROM hs WHERE post_url IN {json.dumps(post_urls).replace(\"[\",\"(\").replace(\"]\",\")\")} ORDER BY {person} DESC')\n\u001b[0m\u001b[1;32m      8\u001b[0m     \u001b[0mdf\u001b[0m\u001b[0;34m.\u001b[0m\u001b[0mto_excel\u001b[0m\u001b[0;34m(\u001b[0m\u001b[0;34mf'../data/eval/{today}_eval_{person}.xlsx'\u001b[0m\u001b[0;34m,\u001b[0m \u001b[0mindex\u001b[0m\u001b[0;34m=\u001b[0m\u001b[0;32mFalse\u001b[0m\u001b[0;34m)\u001b[0m\u001b[0;34m\u001b[0m\u001b[0;34m\u001b[0m\u001b[0m\n\u001b[1;32m      9\u001b[0m     \u001b[0;31m# break\u001b[0m\u001b[0;34m\u001b[0m\u001b[0;34m\u001b[0m\u001b[0;34m\u001b[0m\u001b[0m\n",
      "\u001b[0;32m/mnt/d/MW/GHS/Sqlite3Helpers/Sqlite3Helpers/Sqlite3Functions.py\u001b[0m in \u001b[0;36mfetch\u001b[0;34m(con, query)\u001b[0m\n\u001b[1;32m     16\u001b[0m \u001b[0;32mdef\u001b[0m \u001b[0mfetch\u001b[0m\u001b[0;34m(\u001b[0m\u001b[0mcon\u001b[0m\u001b[0;34m:\u001b[0m \u001b[0msl\u001b[0m\u001b[0;34m.\u001b[0m\u001b[0mConnection\u001b[0m\u001b[0;34m,\u001b[0m \u001b[0mquery\u001b[0m\u001b[0;34m:\u001b[0m \u001b[0mstr\u001b[0m\u001b[0;34m)\u001b[0m \u001b[0;34m->\u001b[0m \u001b[0mpd\u001b[0m\u001b[0;34m.\u001b[0m\u001b[0mDataFrame\u001b[0m\u001b[0;34m:\u001b[0m\u001b[0;34m\u001b[0m\u001b[0;34m\u001b[0m\u001b[0m\n\u001b[1;32m     17\u001b[0m     \u001b[0;32mwith\u001b[0m \u001b[0mcon\u001b[0m\u001b[0;34m:\u001b[0m\u001b[0;34m\u001b[0m\u001b[0;34m\u001b[0m\u001b[0m\n\u001b[0;32m---> 18\u001b[0;31m         \u001b[0;32mreturn\u001b[0m \u001b[0mpd\u001b[0m\u001b[0;34m.\u001b[0m\u001b[0mread_sql\u001b[0m\u001b[0;34m(\u001b[0m\u001b[0mquery\u001b[0m\u001b[0;34m,\u001b[0m \u001b[0mcon\u001b[0m\u001b[0;34m)\u001b[0m\u001b[0;34m\u001b[0m\u001b[0;34m\u001b[0m\u001b[0m\n\u001b[0m\u001b[1;32m     19\u001b[0m \u001b[0;34m\u001b[0m\u001b[0m\n\u001b[1;32m     20\u001b[0m \u001b[0;34m\u001b[0m\u001b[0m\n",
      "\u001b[0;32m~/miniconda3/envs/mw/lib/python3.7/site-packages/pandas/io/sql.py\u001b[0m in \u001b[0;36mread_sql\u001b[0;34m(sql, con, index_col, coerce_float, params, parse_dates, columns, chunksize)\u001b[0m\n\u001b[1;32m    606\u001b[0m             \u001b[0mcoerce_float\u001b[0m\u001b[0;34m=\u001b[0m\u001b[0mcoerce_float\u001b[0m\u001b[0;34m,\u001b[0m\u001b[0;34m\u001b[0m\u001b[0;34m\u001b[0m\u001b[0m\n\u001b[1;32m    607\u001b[0m             \u001b[0mparse_dates\u001b[0m\u001b[0;34m=\u001b[0m\u001b[0mparse_dates\u001b[0m\u001b[0;34m,\u001b[0m\u001b[0;34m\u001b[0m\u001b[0;34m\u001b[0m\u001b[0m\n\u001b[0;32m--> 608\u001b[0;31m             \u001b[0mchunksize\u001b[0m\u001b[0;34m=\u001b[0m\u001b[0mchunksize\u001b[0m\u001b[0;34m,\u001b[0m\u001b[0;34m\u001b[0m\u001b[0;34m\u001b[0m\u001b[0m\n\u001b[0m\u001b[1;32m    609\u001b[0m         )\n\u001b[1;32m    610\u001b[0m \u001b[0;34m\u001b[0m\u001b[0m\n",
      "\u001b[0;32m~/miniconda3/envs/mw/lib/python3.7/site-packages/pandas/io/sql.py\u001b[0m in \u001b[0;36mread_query\u001b[0;34m(self, sql, index_col, coerce_float, params, parse_dates, chunksize, dtype)\u001b[0m\n\u001b[1;32m   2114\u001b[0m \u001b[0;34m\u001b[0m\u001b[0m\n\u001b[1;32m   2115\u001b[0m         \u001b[0margs\u001b[0m \u001b[0;34m=\u001b[0m \u001b[0m_convert_params\u001b[0m\u001b[0;34m(\u001b[0m\u001b[0msql\u001b[0m\u001b[0;34m,\u001b[0m \u001b[0mparams\u001b[0m\u001b[0;34m)\u001b[0m\u001b[0;34m\u001b[0m\u001b[0;34m\u001b[0m\u001b[0m\n\u001b[0;32m-> 2116\u001b[0;31m         \u001b[0mcursor\u001b[0m \u001b[0;34m=\u001b[0m \u001b[0mself\u001b[0m\u001b[0;34m.\u001b[0m\u001b[0mexecute\u001b[0m\u001b[0;34m(\u001b[0m\u001b[0;34m*\u001b[0m\u001b[0margs\u001b[0m\u001b[0;34m)\u001b[0m\u001b[0;34m\u001b[0m\u001b[0;34m\u001b[0m\u001b[0m\n\u001b[0m\u001b[1;32m   2117\u001b[0m         \u001b[0mcolumns\u001b[0m \u001b[0;34m=\u001b[0m \u001b[0;34m[\u001b[0m\u001b[0mcol_desc\u001b[0m\u001b[0;34m[\u001b[0m\u001b[0;36m0\u001b[0m\u001b[0;34m]\u001b[0m \u001b[0;32mfor\u001b[0m \u001b[0mcol_desc\u001b[0m \u001b[0;32min\u001b[0m \u001b[0mcursor\u001b[0m\u001b[0;34m.\u001b[0m\u001b[0mdescription\u001b[0m\u001b[0;34m]\u001b[0m\u001b[0;34m\u001b[0m\u001b[0;34m\u001b[0m\u001b[0m\n\u001b[1;32m   2118\u001b[0m \u001b[0;34m\u001b[0m\u001b[0m\n",
      "\u001b[0;32m~/miniconda3/envs/mw/lib/python3.7/site-packages/pandas/io/sql.py\u001b[0m in \u001b[0;36mexecute\u001b[0;34m(self, *args, **kwargs)\u001b[0m\n\u001b[1;32m   2066\u001b[0m \u001b[0;34m\u001b[0m\u001b[0m\n\u001b[1;32m   2067\u001b[0m             \u001b[0mex\u001b[0m \u001b[0;34m=\u001b[0m \u001b[0mDatabaseError\u001b[0m\u001b[0;34m(\u001b[0m\u001b[0;34mf\"Execution failed on sql '{args[0]}': {exc}\"\u001b[0m\u001b[0;34m)\u001b[0m\u001b[0;34m\u001b[0m\u001b[0;34m\u001b[0m\u001b[0m\n\u001b[0;32m-> 2068\u001b[0;31m             \u001b[0;32mraise\u001b[0m \u001b[0mex\u001b[0m \u001b[0;32mfrom\u001b[0m \u001b[0mexc\u001b[0m\u001b[0;34m\u001b[0m\u001b[0;34m\u001b[0m\u001b[0m\n\u001b[0m\u001b[1;32m   2069\u001b[0m \u001b[0;34m\u001b[0m\u001b[0m\n\u001b[1;32m   2070\u001b[0m     \u001b[0;34m@\u001b[0m\u001b[0mstaticmethod\u001b[0m\u001b[0;34m\u001b[0m\u001b[0;34m\u001b[0m\u001b[0m\n",
      "\u001b[0;31mDatabaseError\u001b[0m: Execution failed on sql 'SELECT post_url, HsTermsFound, nHsTermsFound, message FROM hs WHERE post_url IN (\"https://t.me/kar199al/57301\", \"https://t.me/tgispringchannel/12438\", \"https://t.me/kyawswar9690/97713\", \"https://t.me/uhan96999/4822\", \"https://t.me/infohlaing/17544\", \"https://t.me/tfm2022/47300\", \"https://t.me/twitterkfteam/34052\", \"https://t.me/mindinnewsmm/34076\", \"https://t.me/kyawswar9690/195571\", \"https://t.me/stlmgbhone199/8483\", \"https://t.me/sisminnaing/46\", \"https://t.me/kyawwinmaung413/2110\", \"https://t.me/kyawswar9690/238216\", \"https://t.me/kyawswar9690/295057\", \"https://t.me/thaungseinm/12522\", \"https://t.me/pencilow/1275\", \"https://t.me/kyawswar9690/77311\", \"https://t.me/kar199al/60203\", \"https://t.me/kyawswar9690/70191\", \"https://t.me/sittwaethitsar/3963\", \"https://t.me/kyawswar9690/330490\", \"https://t.me/pencilochannel/334\", \"https://t.me/tfm2022/30862\", \"https://t.me/kyawswar9690/321171\", \"https://t.me/kar199al/52204\", \"https://t.me/kyawswar96999/13328\", \"https://t.me/kyawswarks969/9776\", \"https://t.me/tfm2022/40910\", \"https://t.me/kyawswar9690/132092\", \"https://t.me/kyawswar9690/340320\", \"https://t.me/kyawswar9690/152532\", \"https://t.me/thaungseinm/15371\", \"https://t.me/kyawswar9690/161594\", \"https://t.me/kyawswar9690/111667\", \"https://t.me/stlmgbhone199/11292\", \"https://t.me/kyawswar9690/308860\", \"https://t.me/kyawswar9690/333714\", \"https://t.me/tgispringchannel/16287\", \"https://t.me/zfighternews/26293\", \"https://t.me/sittwaethitsar/3547\", \"https://t.me/nawshwe/24629\", \"https://t.me/kyawswar9690/191005\", \"https://t.me/kyawswar9690/181407\", \"https://t.me/kyawswar9690/241115\", \"https://t.me/kyawswar9690/273397\", \"https://t.me/uhan96999/3348\", \"https://t.me/nawshwe/92688\", \"https://t.me/nawshwe/82013\", \"https://t.me/twitterkfteam/85348\", \"https://t.me/stlmgbhone199/10626\", \"https://t.me/kyawswar9690/299440\", \"https://t.me/no_name_myanmar/90915\", \"https://t.me/no_name_myanmar/103619\", \"https://t.me/misandi910201/7743\", \"https://t.me/nawshwe/50789\", \"https://t.me/kyawswar9690/315532\", \"https://t.me/kyawswar9690/286060\", \"https://t.me/kyawswar9690/330554\", \"https://t.me/msi22222/67562\", \"https://t.me/kyawswar9690/103040\", \"https://t.me/nawshwe/5887\", \"https://t.me/kyawswar9690/221453\", \"https://t.me/mindinnewsmm/32784\", \"https://t.me/snowqueen1245/20724\", \"https://t.me/no_name_myanmar/9927\", \"https://t.me/infohlaing/19980\", \"https://t.me/kyawswar9690/213417\", \"https://t.me/kyawswar9690/316977\", \"https://t.me/myanmartelegramarchives/24968\", \"https://t.me/warsoupdatenews2021/11894\", \"https://t.me/mwdmmnews/5646\", \"https://t.me/infohlaing/4179\", \"https://t.me/kyawswar9690/94131\", \"https://t.me/kyawswar9690/155232\", \"https://t.me/kyawwinmaung413/4901\", \"https://t.me/nawshwe/24391\", \"https://t.me/nawshwe/64130\", \"https://t.me/pencilochannel/1025\", \"https://t.me/kyawswar9690/91804\", \"https://t.me/kyawswarks969/9387\", \"https://t.me/msi22222/96047\", \"https://t.me/nawshwe/56495\", \"https://t.me/thiha11223344/385\", \"https://t.me/kyawswar9690/331078\", \"https://t.me/forwardchannelrangoon/45228\", \"https://t.me/no_name_myanmar/97895\", \"https://t.me/kyawswar9690/327521\", \"https://t.me/sisminnaing/3437\", \"https://t.me/snowqueen1245/8112\", \"https://t.me/zfighternews/97889\", \"https://t.me/myanmarupdate/8588\", \"https://t.me/nawshwe/66762\", \"https://t.me/infohlaing/28642\", \"https://t.me/zfighternews/70527\", \"https://t.me/msi22222/67857\", \"https://t.me/twitterkfteam/51234\", \"https://t.me/kyawswar96999/16795\", \"https://t.me/factcheck_mm/16\", \"https://t.me/kokhantnews/3437\", \"https://t.me/kyawswar9690/22359\") ORDER BY nHsTermsFound DESC': no such column: HsTermsFound"
     ]
    }
   ],
   "source": [
    "for person in tqdm(people):\n",
    "    post_urls = pd.concat((\n",
    "        s3.fetch(conn, query=f'SELECT post_url FROM hs_tall WHERE (person=\"{person}\") AND (n>0) ORDER BY RANDOM() LIMIT 50'),\n",
    "        s3.fetch(conn, query=f'SELECT post_url FROM hs_tall WHERE (person=\"{person}\") AND (n=0) AND (message IS NOT NULL) ORDER BY RANDOM() LIMIT 50')\n",
    "        )).post_url.tolist()\n",
    "    df = s3.fetch(conn,\n",
    "        f'SELECT post_url, {person.lstrip(\"n\")}, {person}, message FROM hs WHERE post_url IN {json.dumps(post_urls).replace(\"[\",\"(\").replace(\"]\",\")\")} ORDER BY {person} DESC')\n",
    "    df.to_excel(f'../data/eval/{today}_eval_{person}.xlsx', index=False)\n",
    "    # break"
   ]
  },
  {
   "cell_type": "code",
   "execution_count": null,
   "metadata": {},
   "outputs": [
    {
     "data": {
      "text/plain": [
       "'(\"https://t.me/nawshwe/52445\", \"https://t.me/thiha11223344/5369\", \"https://t.me/kyawswar9690/232796\", \"https://t.me/nawshwe/56171\", \"https://t.me/myanmarhardtalk/20558\", \"https://t.me/msi22222/87109\", \"https://t.me/kyawswar96999/14786\", \"https://t.me/kyawswar9690/232431\", \"https://t.me/kyawswar9690/287424\", \"https://t.me/dgf21news/17372\")'"
      ]
     },
     "execution_count": 15,
     "metadata": {},
     "output_type": "execute_result"
    }
   ],
   "source": [
    "json.dumps(df.post_url.tolist()).replace('[','(').replace(']',')')"
   ]
  },
  {
   "cell_type": "code",
   "execution_count": null,
   "metadata": {},
   "outputs": [
    {
     "data": {
      "text/plain": [
       "0            https://t.me/nawshwe/52445\n",
       "1       https://t.me/thiha11223344/5369\n",
       "2      https://t.me/kyawswar9690/232796\n",
       "3            https://t.me/nawshwe/56171\n",
       "4    https://t.me/myanmarhardtalk/20558\n",
       "0           https://t.me/msi22222/87109\n",
       "1      https://t.me/kyawswar96999/14786\n",
       "2      https://t.me/kyawswar9690/232431\n",
       "3      https://t.me/kyawswar9690/287424\n",
       "4          https://t.me/dgf21news/17372\n",
       "Name: post_url, dtype: object"
      ]
     },
     "execution_count": 13,
     "metadata": {},
     "output_type": "execute_result"
    }
   ],
   "source": [
    "df.post_url"
   ]
  },
  {
   "cell_type": "code",
   "execution_count": null,
   "metadata": {},
   "outputs": [],
   "source": []
  }
 ],
 "metadata": {
  "kernelspec": {
   "display_name": "Python 3.7.11 ('mw')",
   "language": "python",
   "name": "python3"
  },
  "language_info": {
   "codemirror_mode": {
    "name": "ipython",
    "version": 3
   },
   "file_extension": ".py",
   "mimetype": "text/x-python",
   "name": "python",
   "nbconvert_exporter": "python",
   "pygments_lexer": "ipython3",
   "version": "3.7.11"
  },
  "orig_nbformat": 4,
  "vscode": {
   "interpreter": {
    "hash": "8652b6e3ad2b18296fc23e508da3fac2c87b0e165b92642f0b1bc7008a04ea39"
   }
  }
 },
 "nbformat": 4,
 "nbformat_minor": 2
}
