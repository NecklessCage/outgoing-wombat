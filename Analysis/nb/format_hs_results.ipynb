{
 "cells": [
  {
   "cell_type": "code",
   "execution_count": 1,
   "metadata": {},
   "outputs": [],
   "source": [
    "import pandas as pd\n",
    "pd.options.mode.chained_assignment = None  # default='warn'"
   ]
  },
  {
   "cell_type": "code",
   "execution_count": 2,
   "metadata": {},
   "outputs": [
    {
     "data": {
      "text/html": [
       "<div>\n",
       "<style scoped>\n",
       "    .dataframe tbody tr th:only-of-type {\n",
       "        vertical-align: middle;\n",
       "    }\n",
       "\n",
       "    .dataframe tbody tr th {\n",
       "        vertical-align: top;\n",
       "    }\n",
       "\n",
       "    .dataframe thead th {\n",
       "        text-align: right;\n",
       "    }\n",
       "</style>\n",
       "<table border=\"1\" class=\"dataframe\">\n",
       "  <thead>\n",
       "    <tr style=\"text-align: right;\">\n",
       "      <th></th>\n",
       "      <th>index</th>\n",
       "      <th>date</th>\n",
       "      <th>time</th>\n",
       "      <th>post_url</th>\n",
       "      <th>message</th>\n",
       "      <th>hs_terms_found</th>\n",
       "      <th>AungSanSuuKyi</th>\n",
       "      <th>Pencilo</th>\n",
       "      <th>ThinzarShoonLeiYi</th>\n",
       "      <th>EiThinzarMaung</th>\n",
       "      <th>...</th>\n",
       "      <th>nMaySabePhyu</th>\n",
       "      <th>nChawSuSan</th>\n",
       "      <th>nAyeMyintAungAung</th>\n",
       "      <th>nNawWahKuShee</th>\n",
       "      <th>nPaingPhyoeThu</th>\n",
       "      <th>nThetThetKhaing</th>\n",
       "      <th>nNawSusannaHlaHlaSoe</th>\n",
       "      <th>nNawMayOo</th>\n",
       "      <th>nHtarHtetHtet</th>\n",
       "      <th>nHsTermsFound</th>\n",
       "    </tr>\n",
       "  </thead>\n",
       "  <tbody>\n",
       "    <tr>\n",
       "      <th>0</th>\n",
       "      <td>14447</td>\n",
       "      <td>2022-08-03</td>\n",
       "      <td>02:24:55.000000</td>\n",
       "      <td>https://t.me/pencilochannel/2907</td>\n",
       "      <td>us , canada က ချစ်ကို ချစ်မတို့ &lt;newline&gt;မအလဆီ...</td>\n",
       "      <td>[]</td>\n",
       "      <td>[]</td>\n",
       "      <td>[]</td>\n",
       "      <td>[]</td>\n",
       "      <td>[]</td>\n",
       "      <td>...</td>\n",
       "      <td>0</td>\n",
       "      <td>0</td>\n",
       "      <td>0</td>\n",
       "      <td>0</td>\n",
       "      <td>0</td>\n",
       "      <td>0</td>\n",
       "      <td>0</td>\n",
       "      <td>0</td>\n",
       "      <td>0</td>\n",
       "      <td>0</td>\n",
       "    </tr>\n",
       "    <tr>\n",
       "      <th>1</th>\n",
       "      <td>0</td>\n",
       "      <td>2022-08-03</td>\n",
       "      <td>01:27:41.000000</td>\n",
       "      <td>https://t.me/justicseeker/7574</td>\n",
       "      <td>အကြိမ် ၁ သန်းမှာ တစ်ကြိမ်ပဲ ရနိုင်တဲ့ ဓာတ်ပုံရ...</td>\n",
       "      <td>[]</td>\n",
       "      <td>[]</td>\n",
       "      <td>[]</td>\n",
       "      <td>[]</td>\n",
       "      <td>[]</td>\n",
       "      <td>...</td>\n",
       "      <td>0</td>\n",
       "      <td>0</td>\n",
       "      <td>0</td>\n",
       "      <td>0</td>\n",
       "      <td>0</td>\n",
       "      <td>0</td>\n",
       "      <td>0</td>\n",
       "      <td>0</td>\n",
       "      <td>0</td>\n",
       "      <td>0</td>\n",
       "    </tr>\n",
       "  </tbody>\n",
       "</table>\n",
       "<p>2 rows × 47 columns</p>\n",
       "</div>"
      ],
      "text/plain": [
       "   index        date             time                          post_url  \\\n",
       "0  14447  2022-08-03  02:24:55.000000  https://t.me/pencilochannel/2907   \n",
       "1      0  2022-08-03  01:27:41.000000    https://t.me/justicseeker/7574   \n",
       "\n",
       "                                             message hs_terms_found  \\\n",
       "0  us , canada က ချစ်ကို ချစ်မတို့ <newline>မအလဆီ...             []   \n",
       "1  အကြိမ် ၁ သန်းမှာ တစ်ကြိမ်ပဲ ရနိုင်တဲ့ ဓာတ်ပုံရ...             []   \n",
       "\n",
       "  AungSanSuuKyi Pencilo ThinzarShoonLeiYi EiThinzarMaung  ... nMaySabePhyu  \\\n",
       "0            []      []                []             []  ...            0   \n",
       "1            []      []                []             []  ...            0   \n",
       "\n",
       "  nChawSuSan nAyeMyintAungAung nNawWahKuShee nPaingPhyoeThu nThetThetKhaing  \\\n",
       "0          0                 0             0              0               0   \n",
       "1          0                 0             0              0               0   \n",
       "\n",
       "  nNawSusannaHlaHlaSoe nNawMayOo nHtarHtetHtet nHsTermsFound  \n",
       "0                    0         0             0             0  \n",
       "1                    0         0             0             0  \n",
       "\n",
       "[2 rows x 47 columns]"
      ]
     },
     "execution_count": 2,
     "metadata": {},
     "output_type": "execute_result"
    }
   ],
   "source": [
    "df = pd.read_csv('../data/output/hs_202208151209.csv')\n",
    "df.head(2)"
   ]
  },
  {
   "cell_type": "markdown",
   "metadata": {},
   "source": [
    "# Formatting Strategy"
   ]
  },
  {
   "cell_type": "markdown",
   "metadata": {},
   "source": [
    "- List of terms found\n",
    "    - hs terms\n",
    "    - terms found for people\n",
    "- Number of terms found"
   ]
  },
  {
   "cell_type": "code",
   "execution_count": 4,
   "metadata": {},
   "outputs": [
    {
     "name": "stdout",
     "output_type": "stream",
     "text": [
      "(28100247, 7)\n"
     ]
    },
    {
     "data": {
      "text/html": [
       "<div>\n",
       "<style scoped>\n",
       "    .dataframe tbody tr th:only-of-type {\n",
       "        vertical-align: middle;\n",
       "    }\n",
       "\n",
       "    .dataframe tbody tr th {\n",
       "        vertical-align: top;\n",
       "    }\n",
       "\n",
       "    .dataframe thead th {\n",
       "        text-align: right;\n",
       "    }\n",
       "</style>\n",
       "<table border=\"1\" class=\"dataframe\">\n",
       "  <thead>\n",
       "    <tr style=\"text-align: right;\">\n",
       "      <th></th>\n",
       "      <th>index</th>\n",
       "      <th>date</th>\n",
       "      <th>time</th>\n",
       "      <th>post_url</th>\n",
       "      <th>message</th>\n",
       "      <th>person</th>\n",
       "      <th>n</th>\n",
       "    </tr>\n",
       "  </thead>\n",
       "  <tbody>\n",
       "    <tr>\n",
       "      <th>0</th>\n",
       "      <td>14447</td>\n",
       "      <td>2022-08-03</td>\n",
       "      <td>02:24:55.000000</td>\n",
       "      <td>https://t.me/pencilochannel/2907</td>\n",
       "      <td>us , canada က ချစ်ကို ချစ်မတို့ &lt;newline&gt;မအလဆီ...</td>\n",
       "      <td>nAungSanSuuKyi</td>\n",
       "      <td>0</td>\n",
       "    </tr>\n",
       "    <tr>\n",
       "      <th>1</th>\n",
       "      <td>0</td>\n",
       "      <td>2022-08-03</td>\n",
       "      <td>01:27:41.000000</td>\n",
       "      <td>https://t.me/justicseeker/7574</td>\n",
       "      <td>အကြိမ် ၁ သန်းမှာ တစ်ကြိမ်ပဲ ရနိုင်တဲ့ ဓာတ်ပုံရ...</td>\n",
       "      <td>nAungSanSuuKyi</td>\n",
       "      <td>0</td>\n",
       "    </tr>\n",
       "    <tr>\n",
       "      <th>2</th>\n",
       "      <td>51038</td>\n",
       "      <td>2022-08-03</td>\n",
       "      <td>01:13:22.000000</td>\n",
       "      <td>https://t.me/zfighternews/124788</td>\n",
       "      <td>မြန်မာနိုင်ငံတစ်ဝန်း စစ်ကောင်စီတပ်ဖွဲ့ဝင် ၇၄ ဦ...</td>\n",
       "      <td>nAungSanSuuKyi</td>\n",
       "      <td>1</td>\n",
       "    </tr>\n",
       "    <tr>\n",
       "      <th>3</th>\n",
       "      <td>1</td>\n",
       "      <td>2022-08-03</td>\n",
       "      <td>01:10:06.000000</td>\n",
       "      <td>https://t.me/justicseeker/7573</td>\n",
       "      <td>NaN</td>\n",
       "      <td>nAungSanSuuKyi</td>\n",
       "      <td>0</td>\n",
       "    </tr>\n",
       "    <tr>\n",
       "      <th>4</th>\n",
       "      <td>2</td>\n",
       "      <td>2022-08-03</td>\n",
       "      <td>01:09:46.000000</td>\n",
       "      <td>https://t.me/justicseeker/7572</td>\n",
       "      <td>[ အပြစ် ]ဟု မိန့်တော်မူသည် … ။&lt;newline&gt;ရပ်ပြစ်...</td>\n",
       "      <td>nAungSanSuuKyi</td>\n",
       "      <td>1</td>\n",
       "    </tr>\n",
       "  </tbody>\n",
       "</table>\n",
       "</div>"
      ],
      "text/plain": [
       "   index        date             time                          post_url  \\\n",
       "0  14447  2022-08-03  02:24:55.000000  https://t.me/pencilochannel/2907   \n",
       "1      0  2022-08-03  01:27:41.000000    https://t.me/justicseeker/7574   \n",
       "2  51038  2022-08-03  01:13:22.000000  https://t.me/zfighternews/124788   \n",
       "3      1  2022-08-03  01:10:06.000000    https://t.me/justicseeker/7573   \n",
       "4      2  2022-08-03  01:09:46.000000    https://t.me/justicseeker/7572   \n",
       "\n",
       "                                             message          person  n  \n",
       "0  us , canada က ချစ်ကို ချစ်မတို့ <newline>မအလဆီ...  nAungSanSuuKyi  0  \n",
       "1  အကြိမ် ၁ သန်းမှာ တစ်ကြိမ်ပဲ ရနိုင်တဲ့ ဓာတ်ပုံရ...  nAungSanSuuKyi  0  \n",
       "2  မြန်မာနိုင်ငံတစ်ဝန်း စစ်ကောင်စီတပ်ဖွဲ့ဝင် ၇၄ ဦ...  nAungSanSuuKyi  1  \n",
       "3                                                NaN  nAungSanSuuKyi  0  \n",
       "4  [ အပြစ် ]ဟု မိန့်တော်မူသည် … ။<newline>ရပ်ပြစ်...  nAungSanSuuKyi  1  "
      ]
     },
     "metadata": {},
     "output_type": "display_data"
    }
   ],
   "source": [
    "data = df.melt(\n",
    "    id_vars=['index','date','time','post_url','message'],\n",
    "    value_vars=[c for c in df.columns if c.startswith('n')],\n",
    "    var_name='person',\n",
    "    value_name='n'\n",
    ")\n",
    "print(data.shape)\n",
    "display(data.head())\n",
    "del df"
   ]
  },
  {
   "cell_type": "code",
   "execution_count": null,
   "metadata": {},
   "outputs": [],
   "source": []
  },
  {
   "cell_type": "code",
   "execution_count": 5,
   "metadata": {},
   "outputs": [],
   "source": [
    "data.to_csv('../data/output/hs_formatted_202208151737.csv', index=False)"
   ]
  },
  {
   "cell_type": "code",
   "execution_count": 6,
   "metadata": {},
   "outputs": [
    {
     "ename": "",
     "evalue": "",
     "output_type": "error",
     "traceback": [
      "\u001b[1;31mCanceled future for execute_request message before replies were done"
     ]
    },
    {
     "ename": "",
     "evalue": "",
     "output_type": "error",
     "traceback": [
      "The Kernel crashed while executing code in the the current cell or a previous cell. Please review the code in the cell(s) to identify a possible cause of the failure. Click <a href='https://aka.ms/vscodeJupyterKernelCrash'>here</a> for more info. View Jupyter <a href='command:jupyter.viewOutput'>log</a> for further details."
     ]
    }
   ],
   "source": [
    "from Sqlite3Helpers import Sqlite3Functions as s3\n",
    "\n",
    "s3.insert(table='hs_tall', con=s3.connect_to_sqlite3('../../Scraping/db/ghs.db'), df=data, if_exists='replace', chunksize=100000)"
   ]
  },
  {
   "cell_type": "code",
   "execution_count": null,
   "metadata": {},
   "outputs": [],
   "source": []
  }
 ],
 "metadata": {
  "kernelspec": {
   "display_name": "Python 3.7.11 ('mw')",
   "language": "python",
   "name": "python3"
  },
  "language_info": {
   "codemirror_mode": {
    "name": "ipython",
    "version": 3
   },
   "file_extension": ".py",
   "mimetype": "text/x-python",
   "name": "python",
   "nbconvert_exporter": "python",
   "pygments_lexer": "ipython3",
   "version": "3.7.11"
  },
  "orig_nbformat": 4,
  "vscode": {
   "interpreter": {
    "hash": "8652b6e3ad2b18296fc23e508da3fac2c87b0e165b92642f0b1bc7008a04ea39"
   }
  }
 },
 "nbformat": 4,
 "nbformat_minor": 2
}
