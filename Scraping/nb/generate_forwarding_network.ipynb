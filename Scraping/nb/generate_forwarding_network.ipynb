{
 "cells": [
  {
   "cell_type": "code",
   "execution_count": 1,
   "metadata": {},
   "outputs": [],
   "source": [
    "import sqlite3 as sl\n",
    "import pandas as pd\n",
    "from datetime import datetime\n",
    "\n",
    "\n",
    "def connect_to_sqlite3(filepath: str) -> sl.Connection:\n",
    "    return sl.connect(filepath)\n",
    "\n",
    "\n",
    "def insert(table: str, con: sl.Connection, df: pd.DataFrame, if_exists: str = 'append', chunksize: int = 1000) -> None:\n",
    "    # This will need exception handling but not sure how yet.\n",
    "    df.to_sql(table, con, if_exists=if_exists, chunksize=chunksize)\n",
    "\n",
    "\n",
    "def fetch(con: sl.Connection, query: str) -> pd.DataFrame:\n",
    "    return pd.read_sql(query, con)\n",
    "\n",
    "\n",
    "conn = connect_to_sqlite3('../db/ghs.db')"
   ]
  },
  {
   "cell_type": "code",
   "execution_count": 2,
   "metadata": {},
   "outputs": [
    {
     "name": "stdout",
     "output_type": "stream",
     "text": [
      "(404484, 2)\n"
     ]
    },
    {
     "data": {
      "text/html": [
       "<div>\n",
       "<style scoped>\n",
       "    .dataframe tbody tr th:only-of-type {\n",
       "        vertical-align: middle;\n",
       "    }\n",
       "\n",
       "    .dataframe tbody tr th {\n",
       "        vertical-align: top;\n",
       "    }\n",
       "\n",
       "    .dataframe thead th {\n",
       "        text-align: right;\n",
       "    }\n",
       "</style>\n",
       "<table border=\"1\" class=\"dataframe\">\n",
       "  <thead>\n",
       "    <tr style=\"text-align: right;\">\n",
       "      <th></th>\n",
       "      <th>forwarder</th>\n",
       "      <th>src</th>\n",
       "    </tr>\n",
       "  </thead>\n",
       "  <tbody>\n",
       "    <tr>\n",
       "      <th>0</th>\n",
       "      <td>justicseeker</td>\n",
       "      <td>https://t.me/officalnews121</td>\n",
       "    </tr>\n",
       "  </tbody>\n",
       "</table>\n",
       "</div>"
      ],
      "text/plain": [
       "      forwarder                          src\n",
       "0  justicseeker  https://t.me/officalnews121"
      ]
     },
     "metadata": {},
     "output_type": "display_data"
    }
   ],
   "source": [
    "data = fetch(conn, '''\n",
    "WITH a AS (\n",
    "  SELECT\n",
    "    channel_handle,\n",
    "    json_extract(raw_post, '$.fwd_from') AS fwd_from\n",
    "  FROM\n",
    "    raw_posts rp\n",
    "  WHERE\n",
    "    fwd_from IS NOT NULL\n",
    ")\n",
    "SELECT\n",
    "  channel_handle forwarder,\n",
    "  json_extract(fwd_from, '$.from_entity_url') src\n",
    "FROM\n",
    "  a\n",
    "''')\n",
    "print(data.shape)\n",
    "display(data.head(1))"
   ]
  },
  {
   "cell_type": "code",
   "execution_count": 3,
   "metadata": {},
   "outputs": [
    {
     "name": "stdout",
     "output_type": "stream",
     "text": [
      "(381318, 2)\n"
     ]
    },
    {
     "data": {
      "text/html": [
       "<div>\n",
       "<style scoped>\n",
       "    .dataframe tbody tr th:only-of-type {\n",
       "        vertical-align: middle;\n",
       "    }\n",
       "\n",
       "    .dataframe tbody tr th {\n",
       "        vertical-align: top;\n",
       "    }\n",
       "\n",
       "    .dataframe thead th {\n",
       "        text-align: right;\n",
       "    }\n",
       "</style>\n",
       "<table border=\"1\" class=\"dataframe\">\n",
       "  <thead>\n",
       "    <tr style=\"text-align: right;\">\n",
       "      <th></th>\n",
       "      <th>source</th>\n",
       "      <th>target</th>\n",
       "    </tr>\n",
       "  </thead>\n",
       "  <tbody>\n",
       "    <tr>\n",
       "      <th>0</th>\n",
       "      <td>officalnews121</td>\n",
       "      <td>justicseeker</td>\n",
       "    </tr>\n",
       "    <tr>\n",
       "      <th>1</th>\n",
       "      <td>mindoyesayargyi000</td>\n",
       "      <td>justicseeker</td>\n",
       "    </tr>\n",
       "    <tr>\n",
       "      <th>2</th>\n",
       "      <td>mindoyesayargyi000</td>\n",
       "      <td>justicseeker</td>\n",
       "    </tr>\n",
       "    <tr>\n",
       "      <th>3</th>\n",
       "      <td>banyunt969</td>\n",
       "      <td>justicseeker</td>\n",
       "    </tr>\n",
       "    <tr>\n",
       "      <th>4</th>\n",
       "      <td>banyunt969</td>\n",
       "      <td>justicseeker</td>\n",
       "    </tr>\n",
       "  </tbody>\n",
       "</table>\n",
       "</div>"
      ],
      "text/plain": [
       "               source        target\n",
       "0      officalnews121  justicseeker\n",
       "1  mindoyesayargyi000  justicseeker\n",
       "2  mindoyesayargyi000  justicseeker\n",
       "3          banyunt969  justicseeker\n",
       "4          banyunt969  justicseeker"
      ]
     },
     "execution_count": 3,
     "metadata": {},
     "output_type": "execute_result"
    }
   ],
   "source": [
    "data = data.loc[~data.src.isna()]\n",
    "print(data.shape)\n",
    "data['src'] = [l.split('/')[-1] for l in data.src]\n",
    "data.columns = ['target', 'source']\n",
    "data = data[['source', 'target']]\n",
    "data.head()"
   ]
  },
  {
   "cell_type": "markdown",
   "metadata": {},
   "source": [
    "# Insert into NEO4J"
   ]
  },
  {
   "cell_type": "code",
   "execution_count": 4,
   "metadata": {},
   "outputs": [],
   "source": [
    "'''\n",
    "CREATE (c:City {name: \"Zagreb\", population_size: 1000000});\n",
    "'''\n",
    "\n",
    "\n",
    "def generate_cypher_create_node(d: pd.DataFrame):\n",
    "    q = 'CREATE ' + ','.join((\n",
    "        f'(:{r.node_type}'\n",
    "        ' {'\n",
    "        f'name:\"{r.channel_handle}\"'\n",
    "        '})'\n",
    "    ) for _,r in d.iterrows())\n",
    "\n",
    "    now = datetime.now().strftime('%Y%m%d%H%M')\n",
    "    with open(f'../neo4j/nodes_{now}.cypher', 'w') as f:\n",
    "        f.write(q)\n",
    "\n",
    "    return q"
   ]
  },
  {
   "cell_type": "code",
   "execution_count": 5,
   "metadata": {},
   "outputs": [
    {
     "name": "stdout",
     "output_type": "stream",
     "text": [
      "851\n"
     ]
    },
    {
     "data": {
      "text/html": [
       "<div>\n",
       "<style scoped>\n",
       "    .dataframe tbody tr th:only-of-type {\n",
       "        vertical-align: middle;\n",
       "    }\n",
       "\n",
       "    .dataframe tbody tr th {\n",
       "        vertical-align: top;\n",
       "    }\n",
       "\n",
       "    .dataframe thead th {\n",
       "        text-align: right;\n",
       "    }\n",
       "</style>\n",
       "<table border=\"1\" class=\"dataframe\">\n",
       "  <thead>\n",
       "    <tr style=\"text-align: right;\">\n",
       "      <th></th>\n",
       "      <th>channel_handle</th>\n",
       "      <th>node_type</th>\n",
       "    </tr>\n",
       "  </thead>\n",
       "  <tbody>\n",
       "    <tr>\n",
       "      <th>0</th>\n",
       "      <td>stars_over_burma_education</td>\n",
       "      <td>TG_CHANNEL</td>\n",
       "    </tr>\n",
       "    <tr>\n",
       "      <th>1</th>\n",
       "      <td>springlotto</td>\n",
       "      <td>TG_CHANNEL</td>\n",
       "    </tr>\n",
       "    <tr>\n",
       "      <th>2</th>\n",
       "      <td>ashindelicacy</td>\n",
       "      <td>TG_CHANNEL</td>\n",
       "    </tr>\n",
       "    <tr>\n",
       "      <th>3</th>\n",
       "      <td>kbk303</td>\n",
       "      <td>TG_CHANNEL</td>\n",
       "    </tr>\n",
       "    <tr>\n",
       "      <th>4</th>\n",
       "      <td>mmsub18plu</td>\n",
       "      <td>TG_CHANNEL</td>\n",
       "    </tr>\n",
       "  </tbody>\n",
       "</table>\n",
       "</div>"
      ],
      "text/plain": [
       "               channel_handle   node_type\n",
       "0  stars_over_burma_education  TG_CHANNEL\n",
       "1                 springlotto  TG_CHANNEL\n",
       "2               ashindelicacy  TG_CHANNEL\n",
       "3                      kbk303  TG_CHANNEL\n",
       "4                  mmsub18plu  TG_CHANNEL"
      ]
     },
     "metadata": {},
     "output_type": "display_data"
    }
   ],
   "source": [
    "names = tuple(set(data.values.flatten()))\n",
    "node_types = ['TG_CHANNEL'] * len(names)\n",
    "\n",
    "nodes = pd.DataFrame({\n",
    "    'channel_handle': names,\n",
    "    'node_type': node_types\n",
    "})\n",
    "print(len(nodes))\n",
    "display(nodes.head())"
   ]
  },
  {
   "cell_type": "code",
   "execution_count": 6,
   "metadata": {},
   "outputs": [],
   "source": [
    "_ = generate_cypher_create_node(nodes)"
   ]
  },
  {
   "cell_type": "markdown",
   "metadata": {},
   "source": [
    "## Generate Relationships"
   ]
  },
  {
   "cell_type": "code",
   "execution_count": 7,
   "metadata": {},
   "outputs": [],
   "source": [
    "# 'MATCH (t:table),(m:model) WHERE t.tid = \"T0526\" AND m.mid = \"M001\" CREATE (t)-[R00865:APPEARS_IN]->(m);'\n",
    "\n",
    "def create_rs(d: pd.DataFrame):\n",
    "    q = ';'.join(\n",
    "        (\n",
    "        f'MATCH (s:TG_CHANNEL),(t:TG_CHANNEL) WHERE s.name=\"{r.source}\" AND t.name=\"{r.target}\" CREATE (s)-[:FORWARDED_BY'\n",
    "        '{weight:' + str(r.weight) + ''\n",
    "        '}]->(t)'\n",
    "        )\n",
    "    for _,r in d.iterrows())\n",
    "    \n",
    "    now = datetime.now().strftime('%Y%m%d%H%M')\n",
    "    with open(f'../neo4j/rs_{now}.cypher', 'w') as f:\n",
    "        f.write(q)\n",
    "\n",
    "    return q"
   ]
  },
  {
   "cell_type": "code",
   "execution_count": 8,
   "metadata": {},
   "outputs": [
    {
     "data": {
      "text/html": [
       "<div>\n",
       "<style scoped>\n",
       "    .dataframe tbody tr th:only-of-type {\n",
       "        vertical-align: middle;\n",
       "    }\n",
       "\n",
       "    .dataframe tbody tr th {\n",
       "        vertical-align: top;\n",
       "    }\n",
       "\n",
       "    .dataframe thead th {\n",
       "        text-align: right;\n",
       "    }\n",
       "</style>\n",
       "<table border=\"1\" class=\"dataframe\">\n",
       "  <thead>\n",
       "    <tr style=\"text-align: right;\">\n",
       "      <th></th>\n",
       "      <th>source</th>\n",
       "      <th>target</th>\n",
       "    </tr>\n",
       "  </thead>\n",
       "  <tbody>\n",
       "    <tr>\n",
       "      <th>0</th>\n",
       "      <td>officalnews121</td>\n",
       "      <td>justicseeker</td>\n",
       "    </tr>\n",
       "    <tr>\n",
       "      <th>1</th>\n",
       "      <td>mindoyesayargyi000</td>\n",
       "      <td>justicseeker</td>\n",
       "    </tr>\n",
       "    <tr>\n",
       "      <th>2</th>\n",
       "      <td>mindoyesayargyi000</td>\n",
       "      <td>justicseeker</td>\n",
       "    </tr>\n",
       "    <tr>\n",
       "      <th>3</th>\n",
       "      <td>banyunt969</td>\n",
       "      <td>justicseeker</td>\n",
       "    </tr>\n",
       "    <tr>\n",
       "      <th>4</th>\n",
       "      <td>banyunt969</td>\n",
       "      <td>justicseeker</td>\n",
       "    </tr>\n",
       "  </tbody>\n",
       "</table>\n",
       "</div>"
      ],
      "text/plain": [
       "               source        target\n",
       "0      officalnews121  justicseeker\n",
       "1  mindoyesayargyi000  justicseeker\n",
       "2  mindoyesayargyi000  justicseeker\n",
       "3          banyunt969  justicseeker\n",
       "4          banyunt969  justicseeker"
      ]
     },
     "execution_count": 8,
     "metadata": {},
     "output_type": "execute_result"
    }
   ],
   "source": [
    "data.head()"
   ]
  },
  {
   "cell_type": "code",
   "execution_count": 9,
   "metadata": {},
   "outputs": [
    {
     "data": {
      "text/html": [
       "<div>\n",
       "<style scoped>\n",
       "    .dataframe tbody tr th:only-of-type {\n",
       "        vertical-align: middle;\n",
       "    }\n",
       "\n",
       "    .dataframe tbody tr th {\n",
       "        vertical-align: top;\n",
       "    }\n",
       "\n",
       "    .dataframe thead th {\n",
       "        text-align: right;\n",
       "    }\n",
       "</style>\n",
       "<table border=\"1\" class=\"dataframe\">\n",
       "  <thead>\n",
       "    <tr style=\"text-align: right;\">\n",
       "      <th></th>\n",
       "      <th>source</th>\n",
       "      <th>target</th>\n",
       "      <th>weight</th>\n",
       "    </tr>\n",
       "  </thead>\n",
       "  <tbody>\n",
       "    <tr>\n",
       "      <th>0</th>\n",
       "      <td>-</td>\n",
       "      <td>forwardchannelrangoon</td>\n",
       "      <td>6</td>\n",
       "    </tr>\n",
       "    <tr>\n",
       "      <th>1</th>\n",
       "      <td>-</td>\n",
       "      <td>kyawswar9690</td>\n",
       "      <td>5</td>\n",
       "    </tr>\n",
       "    <tr>\n",
       "      <th>2</th>\n",
       "      <td>-</td>\n",
       "      <td>mgtn_spring_and_scout_news</td>\n",
       "      <td>4</td>\n",
       "    </tr>\n",
       "    <tr>\n",
       "      <th>3</th>\n",
       "      <td>-</td>\n",
       "      <td>mmsoldier</td>\n",
       "      <td>1</td>\n",
       "    </tr>\n",
       "    <tr>\n",
       "      <th>4</th>\n",
       "      <td>-</td>\n",
       "      <td>msi22222</td>\n",
       "      <td>3</td>\n",
       "    </tr>\n",
       "    <tr>\n",
       "      <th>...</th>\n",
       "      <td>...</td>\n",
       "      <td>...</td>\n",
       "      <td>...</td>\n",
       "    </tr>\n",
       "    <tr>\n",
       "      <th>4040</th>\n",
       "      <td>zscoutfighter</td>\n",
       "      <td>no_name_myanmar</td>\n",
       "      <td>496</td>\n",
       "    </tr>\n",
       "    <tr>\n",
       "      <th>4041</th>\n",
       "      <td>zscoutfighter</td>\n",
       "      <td>pcdmchannel</td>\n",
       "      <td>3</td>\n",
       "    </tr>\n",
       "    <tr>\n",
       "      <th>4042</th>\n",
       "      <td>zscoutfighter</td>\n",
       "      <td>sggscoutnetwork</td>\n",
       "      <td>6</td>\n",
       "    </tr>\n",
       "    <tr>\n",
       "      <th>4043</th>\n",
       "      <td>zscoutfighter</td>\n",
       "      <td>tktdpscoutnews</td>\n",
       "      <td>6</td>\n",
       "    </tr>\n",
       "    <tr>\n",
       "      <th>4044</th>\n",
       "      <td>zscoutfighter</td>\n",
       "      <td>zfighternews</td>\n",
       "      <td>2953</td>\n",
       "    </tr>\n",
       "  </tbody>\n",
       "</table>\n",
       "<p>4045 rows × 3 columns</p>\n",
       "</div>"
      ],
      "text/plain": [
       "             source                      target  weight\n",
       "0                 -       forwardchannelrangoon       6\n",
       "1                 -                kyawswar9690       5\n",
       "2                 -  mgtn_spring_and_scout_news       4\n",
       "3                 -                   mmsoldier       1\n",
       "4                 -                    msi22222       3\n",
       "...             ...                         ...     ...\n",
       "4040  zscoutfighter             no_name_myanmar     496\n",
       "4041  zscoutfighter                 pcdmchannel       3\n",
       "4042  zscoutfighter             sggscoutnetwork       6\n",
       "4043  zscoutfighter              tktdpscoutnews       6\n",
       "4044  zscoutfighter                zfighternews    2953\n",
       "\n",
       "[4045 rows x 3 columns]"
      ]
     },
     "execution_count": 9,
     "metadata": {},
     "output_type": "execute_result"
    }
   ],
   "source": [
    "forwards = data.groupby(['source','target']).size().reset_index()\n",
    "forwards.columns = ['source','target','weight']\n",
    "forwards"
   ]
  },
  {
   "cell_type": "code",
   "execution_count": 10,
   "metadata": {},
   "outputs": [],
   "source": [
    "_ = create_rs(forwards)"
   ]
  },
  {
   "cell_type": "code",
   "execution_count": null,
   "metadata": {},
   "outputs": [],
   "source": []
  }
 ],
 "metadata": {
  "kernelspec": {
   "display_name": "Python 3.7.11 ('mw')",
   "language": "python",
   "name": "python3"
  },
  "language_info": {
   "codemirror_mode": {
    "name": "ipython",
    "version": 3
   },
   "file_extension": ".py",
   "mimetype": "text/x-python",
   "name": "python",
   "nbconvert_exporter": "python",
   "pygments_lexer": "ipython3",
   "version": "3.7.11"
  },
  "orig_nbformat": 4,
  "vscode": {
   "interpreter": {
    "hash": "8652b6e3ad2b18296fc23e508da3fac2c87b0e165b92642f0b1bc7008a04ea39"
   }
  }
 },
 "nbformat": 4,
 "nbformat_minor": 2
}
